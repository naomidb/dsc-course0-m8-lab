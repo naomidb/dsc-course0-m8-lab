{
 "cells": [
  {
   "cell_type": "markdown",
   "id": "d7485d62",
   "metadata": {},
   "source": [
    "# Aviation Accidents Analysis\n",
    "\n",
    "You are part of a consulting firm that is tasked to do an analysis of commercial and passenger jet airline safety. The client (an airline/airplane insurer) is interested in knowing what types of aircraft (makes/models) exhibit low rates of total destruction and low likelihood of fatal or serious passenger injuries in the event of an accident. They are also interested in any general variables/conditions that might be at play. Your analysis will be based off of aviation accident data accumulated from the years 1948-2023. \n",
    "\n",
    "Our client is only interested in airplane makes/models that are professional builds and could potentially still be active. Assume a max lifetime of 40 years for a make/model retirement and make sure to filter your data accordingly (i.e. from 1983 onwards). They would also like separate recommendations for small aircraft vs. larger passenger models. **In addition, make sure that claims that you make are statistically robust and that you have enough samples when making comparisons between groups.**\n",
    "\n",
    "\n",
    "In this summative assessment you will demonstrate your ability to:\n",
    "- **Use Pandas to load, inspect, and clean the dataset appropriately.**\n",
    "- **Transform relevant columns to create measures that address the problem at hand.**\n",
    "- conduct EDA: visualization and statistical measures to systematically understand the structure of the data\n",
    "- recommend a set of airplanes and makes conforming to the client's request and identify at least *two* factors contributing to airplane safety. You must provide supporting evidence (visuals, summary statistics, tables) for each claim you make."
   ]
  },
  {
   "cell_type": "markdown",
   "id": "73e582c5",
   "metadata": {},
   "source": [
    "### Make relevant library imports"
   ]
  },
  {
   "cell_type": "code",
   "execution_count": 1,
   "id": "a72188a8",
   "metadata": {},
   "outputs": [],
   "source": [
    "import pandas as pd\n",
    "import numpy as np\n",
    "import matplotlib.pyplot as plt\n",
    "import seaborn as sns"
   ]
  },
  {
   "cell_type": "markdown",
   "id": "5b1fc321",
   "metadata": {},
   "source": [
    "## Data Loading and Inspection"
   ]
  },
  {
   "cell_type": "markdown",
   "id": "57becc28",
   "metadata": {},
   "source": [
    "### Load in data from the relevant directory and inspect the dataframe.\n",
    "- inspect NaNs, datatypes, and summary statistics"
   ]
  },
  {
   "cell_type": "code",
   "execution_count": 325,
   "id": "85235fa7",
   "metadata": {},
   "outputs": [
    {
     "name": "stderr",
     "output_type": "stream",
     "text": [
      "/tmp/ipykernel_690271/2675841452.py:1: DtypeWarning: Columns (6,7,28) have mixed types. Specify dtype option on import or set low_memory=False.\n",
      "  accident_df = pd.read_csv('data/AviationData.csv', encoding='cp1252')\n"
     ]
    }
   ],
   "source": [
    "accident_df = pd.read_csv('data/AviationData.csv', encoding='cp1252')"
   ]
  },
  {
   "cell_type": "code",
   "execution_count": 326,
   "id": "a14ea14c",
   "metadata": {},
   "outputs": [
    {
     "data": {
      "text/html": [
       "<div>\n",
       "<style scoped>\n",
       "    .dataframe tbody tr th:only-of-type {\n",
       "        vertical-align: middle;\n",
       "    }\n",
       "\n",
       "    .dataframe tbody tr th {\n",
       "        vertical-align: top;\n",
       "    }\n",
       "\n",
       "    .dataframe thead th {\n",
       "        text-align: right;\n",
       "    }\n",
       "</style>\n",
       "<table border=\"1\" class=\"dataframe\">\n",
       "  <thead>\n",
       "    <tr style=\"text-align: right;\">\n",
       "      <th></th>\n",
       "      <th>Event.Id</th>\n",
       "      <th>Investigation.Type</th>\n",
       "      <th>Accident.Number</th>\n",
       "      <th>Event.Date</th>\n",
       "      <th>Location</th>\n",
       "      <th>Country</th>\n",
       "      <th>Latitude</th>\n",
       "      <th>Longitude</th>\n",
       "      <th>Airport.Code</th>\n",
       "      <th>Airport.Name</th>\n",
       "      <th>...</th>\n",
       "      <th>Purpose.of.flight</th>\n",
       "      <th>Air.carrier</th>\n",
       "      <th>Total.Fatal.Injuries</th>\n",
       "      <th>Total.Serious.Injuries</th>\n",
       "      <th>Total.Minor.Injuries</th>\n",
       "      <th>Total.Uninjured</th>\n",
       "      <th>Weather.Condition</th>\n",
       "      <th>Broad.phase.of.flight</th>\n",
       "      <th>Report.Status</th>\n",
       "      <th>Publication.Date</th>\n",
       "    </tr>\n",
       "  </thead>\n",
       "  <tbody>\n",
       "    <tr>\n",
       "      <th>0</th>\n",
       "      <td>20001218X45444</td>\n",
       "      <td>Accident</td>\n",
       "      <td>SEA87LA080</td>\n",
       "      <td>1948-10-24</td>\n",
       "      <td>MOOSE CREEK, ID</td>\n",
       "      <td>United States</td>\n",
       "      <td>NaN</td>\n",
       "      <td>NaN</td>\n",
       "      <td>NaN</td>\n",
       "      <td>NaN</td>\n",
       "      <td>...</td>\n",
       "      <td>Personal</td>\n",
       "      <td>NaN</td>\n",
       "      <td>2.0</td>\n",
       "      <td>0.0</td>\n",
       "      <td>0.0</td>\n",
       "      <td>0.0</td>\n",
       "      <td>UNK</td>\n",
       "      <td>Cruise</td>\n",
       "      <td>Probable Cause</td>\n",
       "      <td>NaN</td>\n",
       "    </tr>\n",
       "    <tr>\n",
       "      <th>1</th>\n",
       "      <td>20001218X45447</td>\n",
       "      <td>Accident</td>\n",
       "      <td>LAX94LA336</td>\n",
       "      <td>1962-07-19</td>\n",
       "      <td>BRIDGEPORT, CA</td>\n",
       "      <td>United States</td>\n",
       "      <td>NaN</td>\n",
       "      <td>NaN</td>\n",
       "      <td>NaN</td>\n",
       "      <td>NaN</td>\n",
       "      <td>...</td>\n",
       "      <td>Personal</td>\n",
       "      <td>NaN</td>\n",
       "      <td>4.0</td>\n",
       "      <td>0.0</td>\n",
       "      <td>0.0</td>\n",
       "      <td>0.0</td>\n",
       "      <td>UNK</td>\n",
       "      <td>Unknown</td>\n",
       "      <td>Probable Cause</td>\n",
       "      <td>19-09-1996</td>\n",
       "    </tr>\n",
       "    <tr>\n",
       "      <th>2</th>\n",
       "      <td>20061025X01555</td>\n",
       "      <td>Accident</td>\n",
       "      <td>NYC07LA005</td>\n",
       "      <td>1974-08-30</td>\n",
       "      <td>Saltville, VA</td>\n",
       "      <td>United States</td>\n",
       "      <td>36.922223</td>\n",
       "      <td>-81.878056</td>\n",
       "      <td>NaN</td>\n",
       "      <td>NaN</td>\n",
       "      <td>...</td>\n",
       "      <td>Personal</td>\n",
       "      <td>NaN</td>\n",
       "      <td>3.0</td>\n",
       "      <td>NaN</td>\n",
       "      <td>NaN</td>\n",
       "      <td>NaN</td>\n",
       "      <td>IMC</td>\n",
       "      <td>Cruise</td>\n",
       "      <td>Probable Cause</td>\n",
       "      <td>26-02-2007</td>\n",
       "    </tr>\n",
       "    <tr>\n",
       "      <th>3</th>\n",
       "      <td>20001218X45448</td>\n",
       "      <td>Accident</td>\n",
       "      <td>LAX96LA321</td>\n",
       "      <td>1977-06-19</td>\n",
       "      <td>EUREKA, CA</td>\n",
       "      <td>United States</td>\n",
       "      <td>NaN</td>\n",
       "      <td>NaN</td>\n",
       "      <td>NaN</td>\n",
       "      <td>NaN</td>\n",
       "      <td>...</td>\n",
       "      <td>Personal</td>\n",
       "      <td>NaN</td>\n",
       "      <td>2.0</td>\n",
       "      <td>0.0</td>\n",
       "      <td>0.0</td>\n",
       "      <td>0.0</td>\n",
       "      <td>IMC</td>\n",
       "      <td>Cruise</td>\n",
       "      <td>Probable Cause</td>\n",
       "      <td>12-09-2000</td>\n",
       "    </tr>\n",
       "    <tr>\n",
       "      <th>4</th>\n",
       "      <td>20041105X01764</td>\n",
       "      <td>Accident</td>\n",
       "      <td>CHI79FA064</td>\n",
       "      <td>1979-08-02</td>\n",
       "      <td>Canton, OH</td>\n",
       "      <td>United States</td>\n",
       "      <td>NaN</td>\n",
       "      <td>NaN</td>\n",
       "      <td>NaN</td>\n",
       "      <td>NaN</td>\n",
       "      <td>...</td>\n",
       "      <td>Personal</td>\n",
       "      <td>NaN</td>\n",
       "      <td>1.0</td>\n",
       "      <td>2.0</td>\n",
       "      <td>NaN</td>\n",
       "      <td>0.0</td>\n",
       "      <td>VMC</td>\n",
       "      <td>Approach</td>\n",
       "      <td>Probable Cause</td>\n",
       "      <td>16-04-1980</td>\n",
       "    </tr>\n",
       "  </tbody>\n",
       "</table>\n",
       "<p>5 rows × 31 columns</p>\n",
       "</div>"
      ],
      "text/plain": [
       "         Event.Id Investigation.Type Accident.Number  Event.Date  \\\n",
       "0  20001218X45444           Accident      SEA87LA080  1948-10-24   \n",
       "1  20001218X45447           Accident      LAX94LA336  1962-07-19   \n",
       "2  20061025X01555           Accident      NYC07LA005  1974-08-30   \n",
       "3  20001218X45448           Accident      LAX96LA321  1977-06-19   \n",
       "4  20041105X01764           Accident      CHI79FA064  1979-08-02   \n",
       "\n",
       "          Location        Country   Latitude  Longitude Airport.Code  \\\n",
       "0  MOOSE CREEK, ID  United States        NaN        NaN          NaN   \n",
       "1   BRIDGEPORT, CA  United States        NaN        NaN          NaN   \n",
       "2    Saltville, VA  United States  36.922223 -81.878056          NaN   \n",
       "3       EUREKA, CA  United States        NaN        NaN          NaN   \n",
       "4       Canton, OH  United States        NaN        NaN          NaN   \n",
       "\n",
       "  Airport.Name  ... Purpose.of.flight Air.carrier Total.Fatal.Injuries  \\\n",
       "0          NaN  ...          Personal         NaN                  2.0   \n",
       "1          NaN  ...          Personal         NaN                  4.0   \n",
       "2          NaN  ...          Personal         NaN                  3.0   \n",
       "3          NaN  ...          Personal         NaN                  2.0   \n",
       "4          NaN  ...          Personal         NaN                  1.0   \n",
       "\n",
       "  Total.Serious.Injuries Total.Minor.Injuries Total.Uninjured  \\\n",
       "0                    0.0                  0.0             0.0   \n",
       "1                    0.0                  0.0             0.0   \n",
       "2                    NaN                  NaN             NaN   \n",
       "3                    0.0                  0.0             0.0   \n",
       "4                    2.0                  NaN             0.0   \n",
       "\n",
       "  Weather.Condition  Broad.phase.of.flight   Report.Status Publication.Date  \n",
       "0               UNK                 Cruise  Probable Cause              NaN  \n",
       "1               UNK                Unknown  Probable Cause       19-09-1996  \n",
       "2               IMC                 Cruise  Probable Cause       26-02-2007  \n",
       "3               IMC                 Cruise  Probable Cause       12-09-2000  \n",
       "4               VMC               Approach  Probable Cause       16-04-1980  \n",
       "\n",
       "[5 rows x 31 columns]"
      ]
     },
     "execution_count": 326,
     "metadata": {},
     "output_type": "execute_result"
    }
   ],
   "source": [
    "accident_df.head()"
   ]
  },
  {
   "cell_type": "code",
   "execution_count": 327,
   "id": "bd8d2e0e",
   "metadata": {},
   "outputs": [
    {
     "name": "stdout",
     "output_type": "stream",
     "text": [
      "<class 'pandas.core.frame.DataFrame'>\n",
      "RangeIndex: 88889 entries, 0 to 88888\n",
      "Data columns (total 31 columns):\n",
      " #   Column                  Non-Null Count  Dtype  \n",
      "---  ------                  --------------  -----  \n",
      " 0   Event.Id                88889 non-null  object \n",
      " 1   Investigation.Type      88889 non-null  object \n",
      " 2   Accident.Number         88889 non-null  object \n",
      " 3   Event.Date              88889 non-null  object \n",
      " 4   Location                88837 non-null  object \n",
      " 5   Country                 88663 non-null  object \n",
      " 6   Latitude                34382 non-null  object \n",
      " 7   Longitude               34373 non-null  object \n",
      " 8   Airport.Code            50132 non-null  object \n",
      " 9   Airport.Name            52704 non-null  object \n",
      " 10  Injury.Severity         87889 non-null  object \n",
      " 11  Aircraft.damage         85695 non-null  object \n",
      " 12  Aircraft.Category       32287 non-null  object \n",
      " 13  Registration.Number     87507 non-null  object \n",
      " 14  Make                    88826 non-null  object \n",
      " 15  Model                   88797 non-null  object \n",
      " 16  Amateur.Built           88787 non-null  object \n",
      " 17  Number.of.Engines       82805 non-null  float64\n",
      " 18  Engine.Type             81793 non-null  object \n",
      " 19  FAR.Description         32023 non-null  object \n",
      " 20  Schedule                12582 non-null  object \n",
      " 21  Purpose.of.flight       82697 non-null  object \n",
      " 22  Air.carrier             16648 non-null  object \n",
      " 23  Total.Fatal.Injuries    77488 non-null  float64\n",
      " 24  Total.Serious.Injuries  76379 non-null  float64\n",
      " 25  Total.Minor.Injuries    76956 non-null  float64\n",
      " 26  Total.Uninjured         82977 non-null  float64\n",
      " 27  Weather.Condition       84397 non-null  object \n",
      " 28  Broad.phase.of.flight   61724 non-null  object \n",
      " 29  Report.Status           82505 non-null  object \n",
      " 30  Publication.Date        75118 non-null  object \n",
      "dtypes: float64(5), object(26)\n",
      "memory usage: 21.0+ MB\n"
     ]
    }
   ],
   "source": [
    "accident_df.info()"
   ]
  },
  {
   "cell_type": "code",
   "execution_count": 328,
   "id": "4ad01699",
   "metadata": {},
   "outputs": [
    {
     "data": {
      "text/plain": [
       "(88889, 31)"
      ]
     },
     "execution_count": 328,
     "metadata": {},
     "output_type": "execute_result"
    }
   ],
   "source": [
    "accident_df.shape"
   ]
  },
  {
   "cell_type": "code",
   "execution_count": 329,
   "id": "72abfcd2",
   "metadata": {},
   "outputs": [
    {
     "data": {
      "text/plain": [
       "Index(['Event.Id', 'Investigation.Type', 'Accident.Number', 'Event.Date',\n",
       "       'Location', 'Country', 'Latitude', 'Longitude', 'Airport.Code',\n",
       "       'Airport.Name', 'Injury.Severity', 'Aircraft.damage',\n",
       "       'Aircraft.Category', 'Registration.Number', 'Make', 'Model',\n",
       "       'Amateur.Built', 'Number.of.Engines', 'Engine.Type', 'FAR.Description',\n",
       "       'Schedule', 'Purpose.of.flight', 'Air.carrier', 'Total.Fatal.Injuries',\n",
       "       'Total.Serious.Injuries', 'Total.Minor.Injuries', 'Total.Uninjured',\n",
       "       'Weather.Condition', 'Broad.phase.of.flight', 'Report.Status',\n",
       "       'Publication.Date'],\n",
       "      dtype='object')"
      ]
     },
     "execution_count": 329,
     "metadata": {},
     "output_type": "execute_result"
    }
   ],
   "source": [
    "accident_df.columns"
   ]
  },
  {
   "cell_type": "markdown",
   "id": "2e9b8cc7",
   "metadata": {},
   "source": [
    "## Data Cleaning"
   ]
  },
  {
   "cell_type": "markdown",
   "id": "c23efd78",
   "metadata": {},
   "source": [
    "### Filtering aircrafts and events"
   ]
  },
  {
   "cell_type": "markdown",
   "id": "9c399343",
   "metadata": {},
   "source": [
    "We want to filter the dataset to include aircraft that the client is interested in an analysis of:\n",
    "- inspect relevant columns\n",
    "- figure out any reasonable imputations\n",
    "- filter the dataset"
   ]
  },
  {
   "cell_type": "code",
   "execution_count": 330,
   "id": "5a2b7eab",
   "metadata": {},
   "outputs": [
    {
     "data": {
      "text/html": [
       "<div>\n",
       "<style scoped>\n",
       "    .dataframe tbody tr th:only-of-type {\n",
       "        vertical-align: middle;\n",
       "    }\n",
       "\n",
       "    .dataframe tbody tr th {\n",
       "        vertical-align: top;\n",
       "    }\n",
       "\n",
       "    .dataframe thead th {\n",
       "        text-align: right;\n",
       "    }\n",
       "</style>\n",
       "<table border=\"1\" class=\"dataframe\">\n",
       "  <thead>\n",
       "    <tr style=\"text-align: right;\">\n",
       "      <th></th>\n",
       "      <th>Event.Date</th>\n",
       "      <th>Aircraft.Category</th>\n",
       "      <th>Make</th>\n",
       "      <th>Model</th>\n",
       "      <th>Amateur.Built</th>\n",
       "      <th>FAR.Description</th>\n",
       "      <th>Report.Status</th>\n",
       "      <th>Publication.Date</th>\n",
       "    </tr>\n",
       "  </thead>\n",
       "  <tbody>\n",
       "    <tr>\n",
       "      <th>0</th>\n",
       "      <td>1948-10-24</td>\n",
       "      <td>NaN</td>\n",
       "      <td>Stinson</td>\n",
       "      <td>108-3</td>\n",
       "      <td>No</td>\n",
       "      <td>NaN</td>\n",
       "      <td>Probable Cause</td>\n",
       "      <td>NaN</td>\n",
       "    </tr>\n",
       "    <tr>\n",
       "      <th>1</th>\n",
       "      <td>1962-07-19</td>\n",
       "      <td>NaN</td>\n",
       "      <td>Piper</td>\n",
       "      <td>PA24-180</td>\n",
       "      <td>No</td>\n",
       "      <td>NaN</td>\n",
       "      <td>Probable Cause</td>\n",
       "      <td>19-09-1996</td>\n",
       "    </tr>\n",
       "    <tr>\n",
       "      <th>2</th>\n",
       "      <td>1974-08-30</td>\n",
       "      <td>NaN</td>\n",
       "      <td>Cessna</td>\n",
       "      <td>172M</td>\n",
       "      <td>No</td>\n",
       "      <td>NaN</td>\n",
       "      <td>Probable Cause</td>\n",
       "      <td>26-02-2007</td>\n",
       "    </tr>\n",
       "    <tr>\n",
       "      <th>3</th>\n",
       "      <td>1977-06-19</td>\n",
       "      <td>NaN</td>\n",
       "      <td>Rockwell</td>\n",
       "      <td>112</td>\n",
       "      <td>No</td>\n",
       "      <td>NaN</td>\n",
       "      <td>Probable Cause</td>\n",
       "      <td>12-09-2000</td>\n",
       "    </tr>\n",
       "    <tr>\n",
       "      <th>4</th>\n",
       "      <td>1979-08-02</td>\n",
       "      <td>NaN</td>\n",
       "      <td>Cessna</td>\n",
       "      <td>501</td>\n",
       "      <td>No</td>\n",
       "      <td>NaN</td>\n",
       "      <td>Probable Cause</td>\n",
       "      <td>16-04-1980</td>\n",
       "    </tr>\n",
       "    <tr>\n",
       "      <th>5</th>\n",
       "      <td>1979-09-17</td>\n",
       "      <td>Airplane</td>\n",
       "      <td>Mcdonnell Douglas</td>\n",
       "      <td>DC9</td>\n",
       "      <td>No</td>\n",
       "      <td>Part 129: Foreign</td>\n",
       "      <td>Probable Cause</td>\n",
       "      <td>19-09-2017</td>\n",
       "    </tr>\n",
       "    <tr>\n",
       "      <th>6</th>\n",
       "      <td>1981-08-01</td>\n",
       "      <td>NaN</td>\n",
       "      <td>Cessna</td>\n",
       "      <td>180</td>\n",
       "      <td>No</td>\n",
       "      <td>NaN</td>\n",
       "      <td>Probable Cause</td>\n",
       "      <td>06-11-2001</td>\n",
       "    </tr>\n",
       "    <tr>\n",
       "      <th>7</th>\n",
       "      <td>1982-01-01</td>\n",
       "      <td>Airplane</td>\n",
       "      <td>Cessna</td>\n",
       "      <td>140</td>\n",
       "      <td>No</td>\n",
       "      <td>Part 91: General Aviation</td>\n",
       "      <td>Probable Cause</td>\n",
       "      <td>01-01-1982</td>\n",
       "    </tr>\n",
       "    <tr>\n",
       "      <th>8</th>\n",
       "      <td>1982-01-01</td>\n",
       "      <td>Airplane</td>\n",
       "      <td>Cessna</td>\n",
       "      <td>401B</td>\n",
       "      <td>No</td>\n",
       "      <td>Part 91: General Aviation</td>\n",
       "      <td>Probable Cause</td>\n",
       "      <td>01-01-1982</td>\n",
       "    </tr>\n",
       "    <tr>\n",
       "      <th>9</th>\n",
       "      <td>1982-01-01</td>\n",
       "      <td>NaN</td>\n",
       "      <td>North American</td>\n",
       "      <td>NAVION L-17B</td>\n",
       "      <td>No</td>\n",
       "      <td>NaN</td>\n",
       "      <td>Probable Cause</td>\n",
       "      <td>01-01-1982</td>\n",
       "    </tr>\n",
       "  </tbody>\n",
       "</table>\n",
       "</div>"
      ],
      "text/plain": [
       "   Event.Date Aircraft.Category               Make         Model  \\\n",
       "0  1948-10-24               NaN            Stinson         108-3   \n",
       "1  1962-07-19               NaN              Piper      PA24-180   \n",
       "2  1974-08-30               NaN             Cessna          172M   \n",
       "3  1977-06-19               NaN           Rockwell           112   \n",
       "4  1979-08-02               NaN             Cessna           501   \n",
       "5  1979-09-17          Airplane  Mcdonnell Douglas           DC9   \n",
       "6  1981-08-01               NaN             Cessna           180   \n",
       "7  1982-01-01          Airplane             Cessna           140   \n",
       "8  1982-01-01          Airplane             Cessna          401B   \n",
       "9  1982-01-01               NaN     North American  NAVION L-17B   \n",
       "\n",
       "  Amateur.Built            FAR.Description   Report.Status Publication.Date  \n",
       "0            No                        NaN  Probable Cause              NaN  \n",
       "1            No                        NaN  Probable Cause       19-09-1996  \n",
       "2            No                        NaN  Probable Cause       26-02-2007  \n",
       "3            No                        NaN  Probable Cause       12-09-2000  \n",
       "4            No                        NaN  Probable Cause       16-04-1980  \n",
       "5            No          Part 129: Foreign  Probable Cause       19-09-2017  \n",
       "6            No                        NaN  Probable Cause       06-11-2001  \n",
       "7            No  Part 91: General Aviation  Probable Cause       01-01-1982  \n",
       "8            No  Part 91: General Aviation  Probable Cause       01-01-1982  \n",
       "9            No                        NaN  Probable Cause       01-01-1982  "
      ]
     },
     "execution_count": 330,
     "metadata": {},
     "output_type": "execute_result"
    }
   ],
   "source": [
    "# Only airplanes that are professional make/model and could potentially still be active\n",
    "# Assume 40-year lifespan for planes\n",
    "\n",
    "# Look more closely at data from what seem like potentially relevant columns\n",
    "accident_df[['Event.Date', 'Aircraft.Category', 'Make', 'Model', 'Amateur.Built', 'FAR.Description', 'Report.Status', 'Publication.Date']].head(10)"
   ]
  },
  {
   "cell_type": "code",
   "execution_count": 331,
   "id": "cd2e9474",
   "metadata": {},
   "outputs": [
    {
     "data": {
      "text/plain": [
       "Amateur.Built\n",
       "No     80312\n",
       "Yes     8475\n",
       "Name: count, dtype: int64"
      ]
     },
     "execution_count": 331,
     "metadata": {},
     "output_type": "execute_result"
    }
   ],
   "source": [
    "accident_df['Amateur.Built'].value_counts()"
   ]
  },
  {
   "cell_type": "code",
   "execution_count": 332,
   "id": "2984b3e8",
   "metadata": {},
   "outputs": [],
   "source": [
    "accident_df['Event_Date'] = pd.to_datetime(accident_df['Event.Date'], format='%Y-%m-%d')"
   ]
  },
  {
   "cell_type": "code",
   "execution_count": 333,
   "id": "f90f64ef",
   "metadata": {},
   "outputs": [],
   "source": [
    "accident_df_filter_plane = accident_df.loc[(accident_df['Amateur.Built'] != 'Yes') & \n",
    "                                       (accident_df['Event_Date'].dt.year >= 1985)]"
   ]
  },
  {
   "cell_type": "code",
   "execution_count": 334,
   "id": "cff44aca",
   "metadata": {},
   "outputs": [
    {
     "name": "stdout",
     "output_type": "stream",
     "text": [
      "<class 'pandas.core.frame.DataFrame'>\n",
      "Index: 70564 entries, 10613 to 88888\n",
      "Data columns (total 32 columns):\n",
      " #   Column                  Non-Null Count  Dtype         \n",
      "---  ------                  --------------  -----         \n",
      " 0   Event.Id                70564 non-null  object        \n",
      " 1   Investigation.Type      70564 non-null  object        \n",
      " 2   Accident.Number         70564 non-null  object        \n",
      " 3   Event.Date              70564 non-null  object        \n",
      " 4   Location                70517 non-null  object        \n",
      " 5   Country                 70389 non-null  object        \n",
      " 6   Latitude                30196 non-null  object        \n",
      " 7   Longitude               30190 non-null  object        \n",
      " 8   Airport.Code            40031 non-null  object        \n",
      " 9   Airport.Name            41418 non-null  object        \n",
      " 10  Injury.Severity         69565 non-null  object        \n",
      " 11  Aircraft.damage         67601 non-null  object        \n",
      " 12  Aircraft.Category       25403 non-null  object        \n",
      " 13  Registration.Number     69268 non-null  object        \n",
      " 14  Make                    70516 non-null  object        \n",
      " 15  Model                   70496 non-null  object        \n",
      " 16  Amateur.Built           70463 non-null  object        \n",
      " 17  Number.of.Engines       64878 non-null  float64       \n",
      " 18  Engine.Type             63803 non-null  object        \n",
      " 19  FAR.Description         25160 non-null  object        \n",
      " 20  Schedule                10653 non-null  object        \n",
      " 21  Purpose.of.flight       64439 non-null  object        \n",
      " 22  Air.carrier             15175 non-null  object        \n",
      " 23  Total.Fatal.Injuries    60391 non-null  float64       \n",
      " 24  Total.Serious.Injuries  59452 non-null  float64       \n",
      " 25  Total.Minor.Injuries    59978 non-null  float64       \n",
      " 26  Total.Uninjured         65633 non-null  float64       \n",
      " 27  Weather.Condition       66153 non-null  object        \n",
      " 28  Broad.phase.of.flight   46326 non-null  object        \n",
      " 29  Report.Status           64528 non-null  object        \n",
      " 30  Publication.Date        64159 non-null  object        \n",
      " 31  Event_Date              70564 non-null  datetime64[ns]\n",
      "dtypes: datetime64[ns](1), float64(5), object(26)\n",
      "memory usage: 17.8+ MB\n"
     ]
    }
   ],
   "source": [
    "accident_df_filter_plane.info()"
   ]
  },
  {
   "cell_type": "code",
   "execution_count": 335,
   "id": "2d588cc3",
   "metadata": {},
   "outputs": [
    {
     "data": {
      "text/plain": [
       "(70564, 32)"
      ]
     },
     "execution_count": 335,
     "metadata": {},
     "output_type": "execute_result"
    }
   ],
   "source": [
    "accident_df_filter_plane.shape"
   ]
  },
  {
   "cell_type": "code",
   "execution_count": 336,
   "id": "95af4c6a",
   "metadata": {},
   "outputs": [
    {
     "data": {
      "text/html": [
       "<div>\n",
       "<style scoped>\n",
       "    .dataframe tbody tr th:only-of-type {\n",
       "        vertical-align: middle;\n",
       "    }\n",
       "\n",
       "    .dataframe tbody tr th {\n",
       "        vertical-align: top;\n",
       "    }\n",
       "\n",
       "    .dataframe thead th {\n",
       "        text-align: right;\n",
       "    }\n",
       "</style>\n",
       "<table border=\"1\" class=\"dataframe\">\n",
       "  <thead>\n",
       "    <tr style=\"text-align: right;\">\n",
       "      <th></th>\n",
       "      <th>Event.Id</th>\n",
       "      <th>Investigation.Type</th>\n",
       "      <th>Accident.Number</th>\n",
       "      <th>Event.Date</th>\n",
       "      <th>Location</th>\n",
       "      <th>Country</th>\n",
       "      <th>Latitude</th>\n",
       "      <th>Longitude</th>\n",
       "      <th>Airport.Code</th>\n",
       "      <th>Airport.Name</th>\n",
       "      <th>...</th>\n",
       "      <th>Air.carrier</th>\n",
       "      <th>Total.Fatal.Injuries</th>\n",
       "      <th>Total.Serious.Injuries</th>\n",
       "      <th>Total.Minor.Injuries</th>\n",
       "      <th>Total.Uninjured</th>\n",
       "      <th>Weather.Condition</th>\n",
       "      <th>Broad.phase.of.flight</th>\n",
       "      <th>Report.Status</th>\n",
       "      <th>Publication.Date</th>\n",
       "      <th>Event_Date</th>\n",
       "    </tr>\n",
       "  </thead>\n",
       "  <tbody>\n",
       "    <tr>\n",
       "      <th>10613</th>\n",
       "      <td>20001214X35598</td>\n",
       "      <td>Accident</td>\n",
       "      <td>NYC85FNC02</td>\n",
       "      <td>1985-01-01</td>\n",
       "      <td>HOPKINTON, NH</td>\n",
       "      <td>United States</td>\n",
       "      <td>NaN</td>\n",
       "      <td>NaN</td>\n",
       "      <td>LEB</td>\n",
       "      <td>LEBANON, NH</td>\n",
       "      <td>...</td>\n",
       "      <td>NaN</td>\n",
       "      <td>0.0</td>\n",
       "      <td>2.0</td>\n",
       "      <td>0.0</td>\n",
       "      <td>0.0</td>\n",
       "      <td>IMC</td>\n",
       "      <td>Approach</td>\n",
       "      <td>Probable Cause</td>\n",
       "      <td>NaN</td>\n",
       "      <td>1985-01-01</td>\n",
       "    </tr>\n",
       "    <tr>\n",
       "      <th>10614</th>\n",
       "      <td>20001214X35495</td>\n",
       "      <td>Accident</td>\n",
       "      <td>DEN85FA055</td>\n",
       "      <td>1985-01-01</td>\n",
       "      <td>EDGEWOOD, NM</td>\n",
       "      <td>United States</td>\n",
       "      <td>NaN</td>\n",
       "      <td>NaN</td>\n",
       "      <td>NaN</td>\n",
       "      <td>NaN</td>\n",
       "      <td>...</td>\n",
       "      <td>NaN</td>\n",
       "      <td>2.0</td>\n",
       "      <td>0.0</td>\n",
       "      <td>0.0</td>\n",
       "      <td>0.0</td>\n",
       "      <td>IMC</td>\n",
       "      <td>Cruise</td>\n",
       "      <td>Probable Cause</td>\n",
       "      <td>NaN</td>\n",
       "      <td>1985-01-01</td>\n",
       "    </tr>\n",
       "    <tr>\n",
       "      <th>10615</th>\n",
       "      <td>20001214X35494</td>\n",
       "      <td>Accident</td>\n",
       "      <td>DCA85RA007</td>\n",
       "      <td>1985-01-01</td>\n",
       "      <td>LA PAZ, Bolivia</td>\n",
       "      <td>Bolivia</td>\n",
       "      <td>NaN</td>\n",
       "      <td>NaN</td>\n",
       "      <td>LPB</td>\n",
       "      <td>LA PAZ INTERNATIONAL</td>\n",
       "      <td>...</td>\n",
       "      <td>NaN</td>\n",
       "      <td>29.0</td>\n",
       "      <td>0.0</td>\n",
       "      <td>0.0</td>\n",
       "      <td>0.0</td>\n",
       "      <td>UNK</td>\n",
       "      <td>NaN</td>\n",
       "      <td>Foreign</td>\n",
       "      <td>06-02-1995</td>\n",
       "      <td>1985-01-01</td>\n",
       "    </tr>\n",
       "    <tr>\n",
       "      <th>10616</th>\n",
       "      <td>20001214X35566</td>\n",
       "      <td>Accident</td>\n",
       "      <td>MIA85FA071</td>\n",
       "      <td>1985-01-01</td>\n",
       "      <td>ODESSA, FL</td>\n",
       "      <td>United States</td>\n",
       "      <td>NaN</td>\n",
       "      <td>NaN</td>\n",
       "      <td>NaN</td>\n",
       "      <td>NaN</td>\n",
       "      <td>...</td>\n",
       "      <td>NaN</td>\n",
       "      <td>0.0</td>\n",
       "      <td>2.0</td>\n",
       "      <td>2.0</td>\n",
       "      <td>0.0</td>\n",
       "      <td>VMC</td>\n",
       "      <td>Maneuvering</td>\n",
       "      <td>Probable Cause</td>\n",
       "      <td>NaN</td>\n",
       "      <td>1985-01-01</td>\n",
       "    </tr>\n",
       "    <tr>\n",
       "      <th>10617</th>\n",
       "      <td>20001214X35463</td>\n",
       "      <td>Accident</td>\n",
       "      <td>ATL85LA075</td>\n",
       "      <td>1985-01-01</td>\n",
       "      <td>DUBLIN, NC</td>\n",
       "      <td>United States</td>\n",
       "      <td>NaN</td>\n",
       "      <td>NaN</td>\n",
       "      <td>NaN</td>\n",
       "      <td>NaN</td>\n",
       "      <td>...</td>\n",
       "      <td>NaN</td>\n",
       "      <td>0.0</td>\n",
       "      <td>0.0</td>\n",
       "      <td>0.0</td>\n",
       "      <td>1.0</td>\n",
       "      <td>VMC</td>\n",
       "      <td>Cruise</td>\n",
       "      <td>Probable Cause</td>\n",
       "      <td>NaN</td>\n",
       "      <td>1985-01-01</td>\n",
       "    </tr>\n",
       "  </tbody>\n",
       "</table>\n",
       "<p>5 rows × 32 columns</p>\n",
       "</div>"
      ],
      "text/plain": [
       "             Event.Id Investigation.Type Accident.Number  Event.Date  \\\n",
       "10613  20001214X35598           Accident      NYC85FNC02  1985-01-01   \n",
       "10614  20001214X35495           Accident      DEN85FA055  1985-01-01   \n",
       "10615  20001214X35494           Accident      DCA85RA007  1985-01-01   \n",
       "10616  20001214X35566           Accident      MIA85FA071  1985-01-01   \n",
       "10617  20001214X35463           Accident      ATL85LA075  1985-01-01   \n",
       "\n",
       "              Location        Country Latitude Longitude Airport.Code  \\\n",
       "10613    HOPKINTON, NH  United States      NaN       NaN          LEB   \n",
       "10614     EDGEWOOD, NM  United States      NaN       NaN          NaN   \n",
       "10615  LA PAZ, Bolivia        Bolivia      NaN       NaN          LPB   \n",
       "10616       ODESSA, FL  United States      NaN       NaN          NaN   \n",
       "10617       DUBLIN, NC  United States      NaN       NaN          NaN   \n",
       "\n",
       "               Airport.Name  ... Air.carrier Total.Fatal.Injuries  \\\n",
       "10613           LEBANON, NH  ...         NaN                  0.0   \n",
       "10614                   NaN  ...         NaN                  2.0   \n",
       "10615  LA PAZ INTERNATIONAL  ...         NaN                 29.0   \n",
       "10616                   NaN  ...         NaN                  0.0   \n",
       "10617                   NaN  ...         NaN                  0.0   \n",
       "\n",
       "      Total.Serious.Injuries Total.Minor.Injuries Total.Uninjured  \\\n",
       "10613                    2.0                  0.0             0.0   \n",
       "10614                    0.0                  0.0             0.0   \n",
       "10615                    0.0                  0.0             0.0   \n",
       "10616                    2.0                  2.0             0.0   \n",
       "10617                    0.0                  0.0             1.0   \n",
       "\n",
       "      Weather.Condition Broad.phase.of.flight   Report.Status  \\\n",
       "10613               IMC              Approach  Probable Cause   \n",
       "10614               IMC                Cruise  Probable Cause   \n",
       "10615               UNK                   NaN         Foreign   \n",
       "10616               VMC           Maneuvering  Probable Cause   \n",
       "10617               VMC                Cruise  Probable Cause   \n",
       "\n",
       "      Publication.Date Event_Date  \n",
       "10613              NaN 1985-01-01  \n",
       "10614              NaN 1985-01-01  \n",
       "10615       06-02-1995 1985-01-01  \n",
       "10616              NaN 1985-01-01  \n",
       "10617              NaN 1985-01-01  \n",
       "\n",
       "[5 rows x 32 columns]"
      ]
     },
     "execution_count": 336,
     "metadata": {},
     "output_type": "execute_result"
    }
   ],
   "source": [
    "accident_df_filter_plane.head()"
   ]
  },
  {
   "cell_type": "markdown",
   "id": "36d26002",
   "metadata": {},
   "source": [
    "### Cleaning and constructing Key Measurables\n",
    "\n",
    "Injuries and robustness to destruction are a key interest point for the client. Clean and impute relevant columns and then create derived fields that best quantifies what the client wishes to track. **Use commenting or markdown to explain any cleaning assumptions as well as any derived columns you create.**"
   ]
  },
  {
   "cell_type": "markdown",
   "id": "070b08f8",
   "metadata": {},
   "source": [
    "**Construct metric for fatal/serious injuries**\n",
    "\n",
    "*Hint:* Estimate the total number of passengers on each flight. The likelihood of serious / fatal injury can be estimated as a fraction from this."
   ]
  },
  {
   "cell_type": "code",
   "execution_count": 337,
   "id": "ef28a6d4",
   "metadata": {},
   "outputs": [
    {
     "data": {
      "text/html": [
       "<div>\n",
       "<style scoped>\n",
       "    .dataframe tbody tr th:only-of-type {\n",
       "        vertical-align: middle;\n",
       "    }\n",
       "\n",
       "    .dataframe tbody tr th {\n",
       "        vertical-align: top;\n",
       "    }\n",
       "\n",
       "    .dataframe thead th {\n",
       "        text-align: right;\n",
       "    }\n",
       "</style>\n",
       "<table border=\"1\" class=\"dataframe\">\n",
       "  <thead>\n",
       "    <tr style=\"text-align: right;\">\n",
       "      <th></th>\n",
       "      <th>Injury.Severity</th>\n",
       "      <th>Total.Fatal.Injuries</th>\n",
       "      <th>Total.Serious.Injuries</th>\n",
       "      <th>Total.Minor.Injuries</th>\n",
       "      <th>Total.Uninjured</th>\n",
       "    </tr>\n",
       "  </thead>\n",
       "  <tbody>\n",
       "    <tr>\n",
       "      <th>88879</th>\n",
       "      <td>NaN</td>\n",
       "      <td>0.0</td>\n",
       "      <td>0.0</td>\n",
       "      <td>0.0</td>\n",
       "      <td>0.0</td>\n",
       "    </tr>\n",
       "    <tr>\n",
       "      <th>88880</th>\n",
       "      <td>Non-Fatal</td>\n",
       "      <td>0.0</td>\n",
       "      <td>0.0</td>\n",
       "      <td>0.0</td>\n",
       "      <td>3.0</td>\n",
       "    </tr>\n",
       "    <tr>\n",
       "      <th>88881</th>\n",
       "      <td>Minor</td>\n",
       "      <td>0.0</td>\n",
       "      <td>1.0</td>\n",
       "      <td>0.0</td>\n",
       "      <td>0.0</td>\n",
       "    </tr>\n",
       "    <tr>\n",
       "      <th>88882</th>\n",
       "      <td>Minor</td>\n",
       "      <td>0.0</td>\n",
       "      <td>1.0</td>\n",
       "      <td>0.0</td>\n",
       "      <td>1.0</td>\n",
       "    </tr>\n",
       "    <tr>\n",
       "      <th>88883</th>\n",
       "      <td>Fatal</td>\n",
       "      <td>1.0</td>\n",
       "      <td>0.0</td>\n",
       "      <td>0.0</td>\n",
       "      <td>0.0</td>\n",
       "    </tr>\n",
       "    <tr>\n",
       "      <th>88884</th>\n",
       "      <td>Minor</td>\n",
       "      <td>0.0</td>\n",
       "      <td>1.0</td>\n",
       "      <td>0.0</td>\n",
       "      <td>0.0</td>\n",
       "    </tr>\n",
       "    <tr>\n",
       "      <th>88885</th>\n",
       "      <td>NaN</td>\n",
       "      <td>0.0</td>\n",
       "      <td>0.0</td>\n",
       "      <td>0.0</td>\n",
       "      <td>0.0</td>\n",
       "    </tr>\n",
       "    <tr>\n",
       "      <th>88886</th>\n",
       "      <td>Non-Fatal</td>\n",
       "      <td>0.0</td>\n",
       "      <td>0.0</td>\n",
       "      <td>0.0</td>\n",
       "      <td>1.0</td>\n",
       "    </tr>\n",
       "    <tr>\n",
       "      <th>88887</th>\n",
       "      <td>NaN</td>\n",
       "      <td>0.0</td>\n",
       "      <td>0.0</td>\n",
       "      <td>0.0</td>\n",
       "      <td>0.0</td>\n",
       "    </tr>\n",
       "    <tr>\n",
       "      <th>88888</th>\n",
       "      <td>Minor</td>\n",
       "      <td>0.0</td>\n",
       "      <td>1.0</td>\n",
       "      <td>0.0</td>\n",
       "      <td>1.0</td>\n",
       "    </tr>\n",
       "  </tbody>\n",
       "</table>\n",
       "</div>"
      ],
      "text/plain": [
       "      Injury.Severity  Total.Fatal.Injuries  Total.Serious.Injuries  \\\n",
       "88879             NaN                   0.0                     0.0   \n",
       "88880       Non-Fatal                   0.0                     0.0   \n",
       "88881           Minor                   0.0                     1.0   \n",
       "88882           Minor                   0.0                     1.0   \n",
       "88883           Fatal                   1.0                     0.0   \n",
       "88884           Minor                   0.0                     1.0   \n",
       "88885             NaN                   0.0                     0.0   \n",
       "88886       Non-Fatal                   0.0                     0.0   \n",
       "88887             NaN                   0.0                     0.0   \n",
       "88888           Minor                   0.0                     1.0   \n",
       "\n",
       "       Total.Minor.Injuries  Total.Uninjured  \n",
       "88879                   0.0              0.0  \n",
       "88880                   0.0              3.0  \n",
       "88881                   0.0              0.0  \n",
       "88882                   0.0              1.0  \n",
       "88883                   0.0              0.0  \n",
       "88884                   0.0              0.0  \n",
       "88885                   0.0              0.0  \n",
       "88886                   0.0              1.0  \n",
       "88887                   0.0              0.0  \n",
       "88888                   0.0              1.0  "
      ]
     },
     "execution_count": 337,
     "metadata": {},
     "output_type": "execute_result"
    }
   ],
   "source": [
    "# Review what injury-related columns look like\n",
    "accident_df_filter_plane[['Injury.Severity','Total.Fatal.Injuries', 'Total.Serious.Injuries', 'Total.Minor.Injuries', 'Total.Uninjured']].tail(10)"
   ]
  },
  {
   "cell_type": "code",
   "execution_count": 338,
   "id": "05ebad8e",
   "metadata": {},
   "outputs": [
    {
     "data": {
      "text/plain": [
       "Injury.Severity             999\n",
       "Total.Fatal.Injuries      10173\n",
       "Total.Serious.Injuries    11112\n",
       "Total.Minor.Injuries      10586\n",
       "Total.Uninjured            4931\n",
       "dtype: int64"
      ]
     },
     "execution_count": 338,
     "metadata": {},
     "output_type": "execute_result"
    }
   ],
   "source": [
    "accident_df_filter_plane[['Injury.Severity','Total.Fatal.Injuries', 'Total.Serious.Injuries', 'Total.Minor.Injuries', 'Total.Uninjured']].isna().sum()"
   ]
  },
  {
   "cell_type": "code",
   "execution_count": 339,
   "id": "d7591b69",
   "metadata": {},
   "outputs": [
    {
     "data": {
      "text/plain": [
       "Injury.Severity           999\n",
       "Total.Fatal.Injuries        0\n",
       "Total.Serious.Injuries      0\n",
       "Total.Minor.Injuries        0\n",
       "Total.Uninjured             0\n",
       "dtype: int64"
      ]
     },
     "execution_count": 339,
     "metadata": {},
     "output_type": "execute_result"
    }
   ],
   "source": [
    "# There are a sizeable number of null values in the passenger counts, which will affect the later total passenger calculation\n",
    "# While we don't know if these are meant to be 0 or are simply missing values, removing them would be removing more than 10% of the total dataset\n",
    "# Instead, these null values will be set to 0 so that only rows with 0 passengers total will be filtered\n",
    "accident_df_filter_injury = accident_df_filter_plane.fillna({'Total.Fatal.Injuries': 0, 'Total.Serious.Injuries': 0,\n",
    "                                                     'Total.Minor.Injuries': 0, 'Total.Uninjured': 0})\n",
    "accident_df_filter_injury[['Injury.Severity','Total.Fatal.Injuries', 'Total.Serious.Injuries', 'Total.Minor.Injuries', 'Total.Uninjured']].isna().sum()"
   ]
  },
  {
   "cell_type": "code",
   "execution_count": 340,
   "id": "a09be992",
   "metadata": {},
   "outputs": [],
   "source": [
    "accident_df_filter_injury['Total_Passengers'] = accident_df_filter_injury['Total.Fatal.Injuries'] + accident_df_filter_injury['Total.Serious.Injuries'] + \\\n",
    "                                           accident_df_filter_injury['Total.Minor.Injuries'] + accident_df_filter_injury['Total.Uninjured']\n",
    "\n",
    "accident_df_filter_injury['Severe_Injury_Rate'] = (accident_df_filter_injury['Total.Fatal.Injuries'] + accident_df_filter_injury['Total.Serious.Injuries'])/ \\\n",
    "                                              accident_df_filter_injury['Total_Passengers']"
   ]
  },
  {
   "cell_type": "code",
   "execution_count": 341,
   "id": "3042d6e3",
   "metadata": {},
   "outputs": [
    {
     "data": {
      "text/html": [
       "<div>\n",
       "<style scoped>\n",
       "    .dataframe tbody tr th:only-of-type {\n",
       "        vertical-align: middle;\n",
       "    }\n",
       "\n",
       "    .dataframe tbody tr th {\n",
       "        vertical-align: top;\n",
       "    }\n",
       "\n",
       "    .dataframe thead th {\n",
       "        text-align: right;\n",
       "    }\n",
       "</style>\n",
       "<table border=\"1\" class=\"dataframe\">\n",
       "  <thead>\n",
       "    <tr style=\"text-align: right;\">\n",
       "      <th></th>\n",
       "      <th>Aircraft.damage</th>\n",
       "      <th>Injury.Severity</th>\n",
       "      <th>Total.Fatal.Injuries</th>\n",
       "      <th>Total.Serious.Injuries</th>\n",
       "      <th>Total.Minor.Injuries</th>\n",
       "      <th>Total.Uninjured</th>\n",
       "      <th>Total_Passengers</th>\n",
       "      <th>Severe_Injury_Rate</th>\n",
       "    </tr>\n",
       "  </thead>\n",
       "  <tbody>\n",
       "    <tr>\n",
       "      <th>88879</th>\n",
       "      <td>NaN</td>\n",
       "      <td>NaN</td>\n",
       "      <td>0.0</td>\n",
       "      <td>0.0</td>\n",
       "      <td>0.0</td>\n",
       "      <td>0.0</td>\n",
       "      <td>0.0</td>\n",
       "      <td>NaN</td>\n",
       "    </tr>\n",
       "    <tr>\n",
       "      <th>88880</th>\n",
       "      <td>NaN</td>\n",
       "      <td>Non-Fatal</td>\n",
       "      <td>0.0</td>\n",
       "      <td>0.0</td>\n",
       "      <td>0.0</td>\n",
       "      <td>3.0</td>\n",
       "      <td>3.0</td>\n",
       "      <td>0.0</td>\n",
       "    </tr>\n",
       "    <tr>\n",
       "      <th>88881</th>\n",
       "      <td>NaN</td>\n",
       "      <td>Minor</td>\n",
       "      <td>0.0</td>\n",
       "      <td>1.0</td>\n",
       "      <td>0.0</td>\n",
       "      <td>0.0</td>\n",
       "      <td>1.0</td>\n",
       "      <td>1.0</td>\n",
       "    </tr>\n",
       "    <tr>\n",
       "      <th>88882</th>\n",
       "      <td>NaN</td>\n",
       "      <td>Minor</td>\n",
       "      <td>0.0</td>\n",
       "      <td>1.0</td>\n",
       "      <td>0.0</td>\n",
       "      <td>1.0</td>\n",
       "      <td>2.0</td>\n",
       "      <td>0.5</td>\n",
       "    </tr>\n",
       "    <tr>\n",
       "      <th>88883</th>\n",
       "      <td>NaN</td>\n",
       "      <td>Fatal</td>\n",
       "      <td>1.0</td>\n",
       "      <td>0.0</td>\n",
       "      <td>0.0</td>\n",
       "      <td>0.0</td>\n",
       "      <td>1.0</td>\n",
       "      <td>1.0</td>\n",
       "    </tr>\n",
       "    <tr>\n",
       "      <th>88884</th>\n",
       "      <td>NaN</td>\n",
       "      <td>Minor</td>\n",
       "      <td>0.0</td>\n",
       "      <td>1.0</td>\n",
       "      <td>0.0</td>\n",
       "      <td>0.0</td>\n",
       "      <td>1.0</td>\n",
       "      <td>1.0</td>\n",
       "    </tr>\n",
       "    <tr>\n",
       "      <th>88885</th>\n",
       "      <td>NaN</td>\n",
       "      <td>NaN</td>\n",
       "      <td>0.0</td>\n",
       "      <td>0.0</td>\n",
       "      <td>0.0</td>\n",
       "      <td>0.0</td>\n",
       "      <td>0.0</td>\n",
       "      <td>NaN</td>\n",
       "    </tr>\n",
       "    <tr>\n",
       "      <th>88886</th>\n",
       "      <td>Substantial</td>\n",
       "      <td>Non-Fatal</td>\n",
       "      <td>0.0</td>\n",
       "      <td>0.0</td>\n",
       "      <td>0.0</td>\n",
       "      <td>1.0</td>\n",
       "      <td>1.0</td>\n",
       "      <td>0.0</td>\n",
       "    </tr>\n",
       "    <tr>\n",
       "      <th>88887</th>\n",
       "      <td>NaN</td>\n",
       "      <td>NaN</td>\n",
       "      <td>0.0</td>\n",
       "      <td>0.0</td>\n",
       "      <td>0.0</td>\n",
       "      <td>0.0</td>\n",
       "      <td>0.0</td>\n",
       "      <td>NaN</td>\n",
       "    </tr>\n",
       "    <tr>\n",
       "      <th>88888</th>\n",
       "      <td>NaN</td>\n",
       "      <td>Minor</td>\n",
       "      <td>0.0</td>\n",
       "      <td>1.0</td>\n",
       "      <td>0.0</td>\n",
       "      <td>1.0</td>\n",
       "      <td>2.0</td>\n",
       "      <td>0.5</td>\n",
       "    </tr>\n",
       "  </tbody>\n",
       "</table>\n",
       "</div>"
      ],
      "text/plain": [
       "      Aircraft.damage Injury.Severity  Total.Fatal.Injuries  \\\n",
       "88879             NaN             NaN                   0.0   \n",
       "88880             NaN       Non-Fatal                   0.0   \n",
       "88881             NaN           Minor                   0.0   \n",
       "88882             NaN           Minor                   0.0   \n",
       "88883             NaN           Fatal                   1.0   \n",
       "88884             NaN           Minor                   0.0   \n",
       "88885             NaN             NaN                   0.0   \n",
       "88886     Substantial       Non-Fatal                   0.0   \n",
       "88887             NaN             NaN                   0.0   \n",
       "88888             NaN           Minor                   0.0   \n",
       "\n",
       "       Total.Serious.Injuries  Total.Minor.Injuries  Total.Uninjured  \\\n",
       "88879                     0.0                   0.0              0.0   \n",
       "88880                     0.0                   0.0              3.0   \n",
       "88881                     1.0                   0.0              0.0   \n",
       "88882                     1.0                   0.0              1.0   \n",
       "88883                     0.0                   0.0              0.0   \n",
       "88884                     1.0                   0.0              0.0   \n",
       "88885                     0.0                   0.0              0.0   \n",
       "88886                     0.0                   0.0              1.0   \n",
       "88887                     0.0                   0.0              0.0   \n",
       "88888                     1.0                   0.0              1.0   \n",
       "\n",
       "       Total_Passengers  Severe_Injury_Rate  \n",
       "88879               0.0                 NaN  \n",
       "88880               3.0                 0.0  \n",
       "88881               1.0                 1.0  \n",
       "88882               2.0                 0.5  \n",
       "88883               1.0                 1.0  \n",
       "88884               1.0                 1.0  \n",
       "88885               0.0                 NaN  \n",
       "88886               1.0                 0.0  \n",
       "88887               0.0                 NaN  \n",
       "88888               2.0                 0.5  "
      ]
     },
     "execution_count": 341,
     "metadata": {},
     "output_type": "execute_result"
    }
   ],
   "source": [
    "accident_df_filter_injury[['Aircraft.damage', 'Injury.Severity','Total.Fatal.Injuries', 'Total.Serious.Injuries', 'Total.Minor.Injuries', 'Total.Uninjured', 'Total_Passengers', 'Severe_Injury_Rate']].tail(10)"
   ]
  },
  {
   "cell_type": "code",
   "execution_count": 342,
   "id": "8a390e34",
   "metadata": {},
   "outputs": [
    {
     "data": {
      "text/plain": [
       "np.int64(1296)"
      ]
     },
     "execution_count": 342,
     "metadata": {},
     "output_type": "execute_result"
    }
   ],
   "source": [
    "accident_df_filter_injury['Severe_Injury_Rate'].isna().sum()"
   ]
  },
  {
   "cell_type": "code",
   "execution_count": 343,
   "id": "7a655b86",
   "metadata": {},
   "outputs": [
    {
     "data": {
      "text/plain": [
       "array(['Substantial', 'Destroyed', 'Minor', nan, 'Unknown'], dtype=object)"
      ]
     },
     "execution_count": 343,
     "metadata": {},
     "output_type": "execute_result"
    }
   ],
   "source": [
    "# Because there is still some information on the state of the plane even when we are missing passenger info, we will keep these rows\n",
    "# They will need to be filtered during analysis when looking at survival/injury rates\n",
    "accident_df_filter_injury.loc[accident_df_filter_injury['Severe_Injury_Rate'].isna(), 'Aircraft.damage'].unique()"
   ]
  },
  {
   "cell_type": "markdown",
   "id": "6c89136b",
   "metadata": {},
   "source": [
    "**Aircraft.Damage**\n",
    "- identify and execute any cleaning tasks\n",
    "- construct a derived column tracking whether an aircraft was destroyed or not."
   ]
  },
  {
   "cell_type": "code",
   "execution_count": 344,
   "id": "91b518b1",
   "metadata": {},
   "outputs": [
    {
     "data": {
      "text/plain": [
       "array(['Destroyed', 'Substantial', 'Minor', nan, 'Unknown'], dtype=object)"
      ]
     },
     "execution_count": 344,
     "metadata": {},
     "output_type": "execute_result"
    }
   ],
   "source": [
    "accident_df_filter_injury['Aircraft.damage'].unique()"
   ]
  },
  {
   "cell_type": "code",
   "execution_count": 345,
   "id": "279aa984",
   "metadata": {},
   "outputs": [
    {
     "data": {
      "text/plain": [
       "Aircraft.damage\n",
       "Substantial    51352\n",
       "Destroyed      13763\n",
       "Minor           2370\n",
       "Unknown          116\n",
       "Name: count, dtype: int64"
      ]
     },
     "execution_count": 345,
     "metadata": {},
     "output_type": "execute_result"
    }
   ],
   "source": [
    "accident_df_filter_injury['Aircraft.damage'].value_counts()"
   ]
  },
  {
   "cell_type": "code",
   "execution_count": 346,
   "id": "f92f752b",
   "metadata": {},
   "outputs": [],
   "source": [
    "# Null is equivalent to unknown outcome\n",
    "accident_df_filter_damage = accident_df_filter_injury.fillna({'Aircraft.damage': 'Unknown'})"
   ]
  },
  {
   "cell_type": "code",
   "execution_count": 347,
   "id": "da9ec2a5",
   "metadata": {},
   "outputs": [
    {
     "data": {
      "text/plain": [
       "Aircraft.damage\n",
       "Substantial    51352\n",
       "Destroyed      13763\n",
       "Unknown         3079\n",
       "Minor           2370\n",
       "Name: count, dtype: int64"
      ]
     },
     "execution_count": 347,
     "metadata": {},
     "output_type": "execute_result"
    }
   ],
   "source": [
    "accident_df_filter_damage['Aircraft.damage'].value_counts()"
   ]
  },
  {
   "cell_type": "markdown",
   "id": "e9d8af9b",
   "metadata": {},
   "source": [
    "### Investigate the *Make* column\n",
    "- Identify cleaning tasks here\n",
    "- List cleaning tasks clearly in markdown\n",
    "- Execute the cleaning tasks\n",
    "- For your analysis, keep Makes with a reasonable number (you can put the threshold at 50 though lower could work as well)"
   ]
  },
  {
   "cell_type": "code",
   "execution_count": 348,
   "id": "8697dd44",
   "metadata": {},
   "outputs": [
    {
     "data": {
      "text/plain": [
       "2277"
      ]
     },
     "execution_count": 348,
     "metadata": {},
     "output_type": "execute_result"
    }
   ],
   "source": [
    "len(accident_df_filter_damage['Make'].unique())"
   ]
  },
  {
   "cell_type": "code",
   "execution_count": 349,
   "id": "44f74995",
   "metadata": {},
   "outputs": [
    {
     "data": {
      "text/plain": [
       "Make\n",
       "Cessna                            18360\n",
       "Piper                              9916\n",
       "CESSNA                             4922\n",
       "Beech                              3588\n",
       "PIPER                              2839\n",
       "                                  ...  \n",
       "SCOTT TERRY G                         1\n",
       "PERYERA ARNET                         1\n",
       "BALCOMB KENNETH C III                 1\n",
       "AEROPRAKT MANUFACTURING SP ZOO        1\n",
       "MCGLAUGHLIN RICHARD                   1\n",
       "Name: count, Length: 2276, dtype: int64"
      ]
     },
     "execution_count": 349,
     "metadata": {},
     "output_type": "execute_result"
    }
   ],
   "source": [
    "accident_df_filter_damage['Make'].value_counts()"
   ]
  },
  {
   "cell_type": "code",
   "execution_count": 350,
   "id": "9868e7b8",
   "metadata": {},
   "outputs": [],
   "source": [
    "accident_df_filter_damage['Make'] = accident_df_filter_damage['Make'].str.upper()"
   ]
  },
  {
   "cell_type": "code",
   "execution_count": 351,
   "id": "3b42d272",
   "metadata": {},
   "outputs": [],
   "source": [
    "make_counts = accident_df_filter_damage['Make'].value_counts()\n",
    "make_filter = make_counts[make_counts < 50].index\n",
    "accident_df_filter_make = accident_df_filter_damage.loc[~(accident_df_filter_damage['Make'].isin(make_filter))]"
   ]
  },
  {
   "cell_type": "code",
   "execution_count": 352,
   "id": "430fc0f0",
   "metadata": {},
   "outputs": [
    {
     "data": {
      "text/plain": [
       "88"
      ]
     },
     "execution_count": 352,
     "metadata": {},
     "output_type": "execute_result"
    }
   ],
   "source": [
    "len(accident_df_filter_make['Make'].unique())"
   ]
  },
  {
   "cell_type": "code",
   "execution_count": 353,
   "id": "319d1cd4",
   "metadata": {},
   "outputs": [
    {
     "data": {
      "text/plain": [
       "Make\n",
       "CESSNA                         23282\n",
       "PIPER                          12755\n",
       "BEECH                           4630\n",
       "BOEING                          2575\n",
       "BELL                            2368\n",
       "                               ...  \n",
       "CAMERON                           58\n",
       "AMERICAN CHAMPION AIRCRAFT        54\n",
       "GREAT LAKES                       50\n",
       "GRUMMAN AMERICAN AVN. CORP.       50\n",
       "FLIGHT DESIGN GMBH                50\n",
       "Name: count, Length: 87, dtype: int64"
      ]
     },
     "execution_count": 353,
     "metadata": {},
     "output_type": "execute_result"
    }
   ],
   "source": [
    "accident_df_filter_make['Make'].value_counts()"
   ]
  },
  {
   "cell_type": "code",
   "execution_count": 354,
   "id": "6558d6f8",
   "metadata": {},
   "outputs": [
    {
     "data": {
      "text/plain": [
       "array(['AIRBUS INDUSTRIE', 'AIRBUS'], dtype=object)"
      ]
     },
     "execution_count": 354,
     "metadata": {},
     "output_type": "execute_result"
    }
   ],
   "source": [
    "# Big manufacturers are likely to have a few variations\n",
    "accident_df_filter_make[accident_df_filter_make['Make'].str.contains('AIRBUS', na=False)]['Make'].unique()"
   ]
  },
  {
   "cell_type": "code",
   "execution_count": 355,
   "id": "6cb6f04d",
   "metadata": {},
   "outputs": [
    {
     "data": {
      "text/plain": [
       "array(['BOEING'], dtype=object)"
      ]
     },
     "execution_count": 355,
     "metadata": {},
     "output_type": "execute_result"
    }
   ],
   "source": [
    "accident_df_filter_make[accident_df_filter_make['Make'].str.contains('BOEING', na=False)]['Make'].unique()"
   ]
  },
  {
   "cell_type": "code",
   "execution_count": 356,
   "id": "0292845a",
   "metadata": {},
   "outputs": [
    {
     "data": {
      "text/plain": [
       "array(['BELL', 'BELLANCA'], dtype=object)"
      ]
     },
     "execution_count": 356,
     "metadata": {},
     "output_type": "execute_result"
    }
   ],
   "source": [
    "accident_df_filter_make[accident_df_filter_make['Make'].str.contains('BELL', na=False)]['Make'].unique()"
   ]
  },
  {
   "cell_type": "code",
   "execution_count": 357,
   "id": "f884416e",
   "metadata": {},
   "outputs": [
    {
     "data": {
      "text/plain": [
       "array(['CESSNA'], dtype=object)"
      ]
     },
     "execution_count": 357,
     "metadata": {},
     "output_type": "execute_result"
    }
   ],
   "source": [
    "accident_df_filter_make[accident_df_filter_make['Make'].str.contains('CESSNA', na=False)]['Make'].unique()"
   ]
  },
  {
   "cell_type": "code",
   "execution_count": 358,
   "id": "e2de1c9e",
   "metadata": {},
   "outputs": [
    {
     "data": {
      "text/plain": [
       "array(['PIPER'], dtype=object)"
      ]
     },
     "execution_count": 358,
     "metadata": {},
     "output_type": "execute_result"
    }
   ],
   "source": [
    "accident_df_filter_make[accident_df_filter_make['Make'].str.contains('PIPER', na=False)]['Make'].unique()"
   ]
  },
  {
   "cell_type": "code",
   "execution_count": 359,
   "id": "fbdfe378",
   "metadata": {},
   "outputs": [
    {
     "data": {
      "text/plain": [
       "array(['BEECH'], dtype=object)"
      ]
     },
     "execution_count": 359,
     "metadata": {},
     "output_type": "execute_result"
    }
   ],
   "source": [
    "accident_df_filter_make[accident_df_filter_make['Make'].str.contains('BEECH', na=False)]['Make'].unique()"
   ]
  },
  {
   "cell_type": "code",
   "execution_count": 360,
   "id": "e61c87d8",
   "metadata": {},
   "outputs": [],
   "source": [
    "accident_df_filter_make.loc[accident_df_filter_make['Make'].str.contains('AIRBUS', na=False), 'Make'] = 'AIRBUS'"
   ]
  },
  {
   "cell_type": "code",
   "execution_count": 361,
   "id": "7567a182",
   "metadata": {},
   "outputs": [],
   "source": [
    "# This filter was added after reviewing models\n",
    "accident_df_filter_make.loc[accident_df_filter_make['Make'] == 'GRUMMAN ACFT ENG COR-SCHWEIZER', 'Make'] = 'GRUMMAN-SCHWEIZER'\n",
    "accident_df_filter_make.loc[accident_df_filter_make['Make'].str.startswith('GRUMMAN ', na=False), 'Make'] = 'GRUMMAN'\n",
    "\n",
    "accident_df_filter_make.loc[accident_df_filter_make['Make'].str.startswith('BOMBARDIER ', na=False), 'Make'] = 'BOMBARDIER'"
   ]
  },
  {
   "cell_type": "code",
   "execution_count": 362,
   "id": "7294b383",
   "metadata": {},
   "outputs": [
    {
     "data": {
      "text/plain": [
       "Make\n",
       "CESSNA                        23282\n",
       "PIPER                         12755\n",
       "BEECH                          4630\n",
       "BOEING                         2575\n",
       "BELL                           2368\n",
       "                              ...  \n",
       "PILATUS                          59\n",
       "CAMERON                          58\n",
       "AMERICAN CHAMPION AIRCRAFT       54\n",
       "GREAT LAKES                      50\n",
       "FLIGHT DESIGN GMBH               50\n",
       "Name: count, Length: 82, dtype: int64"
      ]
     },
     "execution_count": 362,
     "metadata": {},
     "output_type": "execute_result"
    }
   ],
   "source": [
    "accident_df_filter_make['Make'].value_counts()"
   ]
  },
  {
   "cell_type": "code",
   "execution_count": 363,
   "id": "69a077fa",
   "metadata": {},
   "outputs": [
    {
     "data": {
      "text/plain": [
       "np.int64(48)"
      ]
     },
     "execution_count": 363,
     "metadata": {},
     "output_type": "execute_result"
    }
   ],
   "source": [
    "accident_df_filter_make['Make'].isna().sum()"
   ]
  },
  {
   "cell_type": "code",
   "execution_count": 364,
   "id": "ff369384",
   "metadata": {},
   "outputs": [
    {
     "data": {
      "text/html": [
       "<div>\n",
       "<style scoped>\n",
       "    .dataframe tbody tr th:only-of-type {\n",
       "        vertical-align: middle;\n",
       "    }\n",
       "\n",
       "    .dataframe tbody tr th {\n",
       "        vertical-align: top;\n",
       "    }\n",
       "\n",
       "    .dataframe thead th {\n",
       "        text-align: right;\n",
       "    }\n",
       "</style>\n",
       "<table border=\"1\" class=\"dataframe\">\n",
       "  <thead>\n",
       "    <tr style=\"text-align: right;\">\n",
       "      <th></th>\n",
       "      <th>Make</th>\n",
       "      <th>Model</th>\n",
       "      <th>Aircraft.damage</th>\n",
       "      <th>Aircraft.Category</th>\n",
       "      <th>Purpose.of.flight</th>\n",
       "      <th>Total_Passengers</th>\n",
       "      <th>Severe_Injury_Rate</th>\n",
       "    </tr>\n",
       "  </thead>\n",
       "  <tbody>\n",
       "    <tr>\n",
       "      <th>45357</th>\n",
       "      <td>NaN</td>\n",
       "      <td>A330</td>\n",
       "      <td>Unknown</td>\n",
       "      <td>Airplane</td>\n",
       "      <td>Unknown</td>\n",
       "      <td>0.0</td>\n",
       "      <td>NaN</td>\n",
       "    </tr>\n",
       "    <tr>\n",
       "      <th>49759</th>\n",
       "      <td>NaN</td>\n",
       "      <td>NaN</td>\n",
       "      <td>Minor</td>\n",
       "      <td>NaN</td>\n",
       "      <td>NaN</td>\n",
       "      <td>0.0</td>\n",
       "      <td>NaN</td>\n",
       "    </tr>\n",
       "    <tr>\n",
       "      <th>50025</th>\n",
       "      <td>NaN</td>\n",
       "      <td>NaN</td>\n",
       "      <td>Destroyed</td>\n",
       "      <td>Airplane</td>\n",
       "      <td>NaN</td>\n",
       "      <td>6.0</td>\n",
       "      <td>1.0</td>\n",
       "    </tr>\n",
       "    <tr>\n",
       "      <th>51022</th>\n",
       "      <td>NaN</td>\n",
       "      <td>206</td>\n",
       "      <td>Substantial</td>\n",
       "      <td>NaN</td>\n",
       "      <td>NaN</td>\n",
       "      <td>5.0</td>\n",
       "      <td>0.2</td>\n",
       "    </tr>\n",
       "    <tr>\n",
       "      <th>54773</th>\n",
       "      <td>NaN</td>\n",
       "      <td>NaN</td>\n",
       "      <td>Destroyed</td>\n",
       "      <td>NaN</td>\n",
       "      <td>NaN</td>\n",
       "      <td>10.0</td>\n",
       "      <td>1.0</td>\n",
       "    </tr>\n",
       "  </tbody>\n",
       "</table>\n",
       "</div>"
      ],
      "text/plain": [
       "      Make Model Aircraft.damage Aircraft.Category Purpose.of.flight  \\\n",
       "45357  NaN  A330         Unknown          Airplane           Unknown   \n",
       "49759  NaN   NaN           Minor               NaN               NaN   \n",
       "50025  NaN   NaN       Destroyed          Airplane               NaN   \n",
       "51022  NaN   206     Substantial               NaN               NaN   \n",
       "54773  NaN   NaN       Destroyed               NaN               NaN   \n",
       "\n",
       "       Total_Passengers  Severe_Injury_Rate  \n",
       "45357               0.0                 NaN  \n",
       "49759               0.0                 NaN  \n",
       "50025               6.0                 1.0  \n",
       "51022               5.0                 0.2  \n",
       "54773              10.0                 1.0  "
      ]
     },
     "execution_count": 364,
     "metadata": {},
     "output_type": "execute_result"
    }
   ],
   "source": [
    "accident_df_filter_make.loc[accident_df_filter_make['Make'].isna(), ['Make', 'Model', 'Aircraft.damage', 'Aircraft.Category', 'Purpose.of.flight', 'Total_Passengers', 'Severe_Injury_Rate']].head()"
   ]
  },
  {
   "cell_type": "code",
   "execution_count": 365,
   "id": "a2b4564d",
   "metadata": {},
   "outputs": [],
   "source": [
    "accident_df_filter_make = accident_df_filter_make.fillna({'Make': 'Unknown'})"
   ]
  },
  {
   "cell_type": "markdown",
   "id": "6ed9f3c2",
   "metadata": {},
   "source": [
    "### Inspect Model column\n",
    "- Get rid of any NaNs.\n",
    "- Inspect the column and counts for each model/make. Are model labels unique to each make?\n",
    "- If not, create a derived column that is a unique identifier for a given plane type."
   ]
  },
  {
   "cell_type": "code",
   "execution_count": 366,
   "id": "bbd53bd9",
   "metadata": {},
   "outputs": [
    {
     "data": {
      "text/plain": [
       "np.int64(65)"
      ]
     },
     "execution_count": 366,
     "metadata": {},
     "output_type": "execute_result"
    }
   ],
   "source": [
    "accident_df_filter_make['Model'].isna().sum()"
   ]
  },
  {
   "cell_type": "code",
   "execution_count": 367,
   "id": "05f20594",
   "metadata": {},
   "outputs": [],
   "source": [
    "# Remove null models\n",
    "accident_df_filter_model = accident_df_filter_make.copy()\n",
    "accident_df_filter_model = accident_df_filter_model.loc[~accident_df_filter_model['Model'].isna()]"
   ]
  },
  {
   "cell_type": "code",
   "execution_count": 368,
   "id": "59886435",
   "metadata": {},
   "outputs": [
    {
     "data": {
      "text/plain": [
       "Model\n",
       "500              7\n",
       "269C             4\n",
       "7AC              4\n",
       "100              4\n",
       "G-164B           4\n",
       "                ..\n",
       "BH-47G3B2        1\n",
       "PA28-201T        1\n",
       "210-M            1\n",
       "S1T              1\n",
       "AG-CAT G-164A    1\n",
       "Name: count, Length: 5682, dtype: int64"
      ]
     },
     "execution_count": 368,
     "metadata": {},
     "output_type": "execute_result"
    }
   ],
   "source": [
    "# Find how many unique makes each model has\n",
    "accident_df_filter_model[['Make', 'Model']].drop_duplicates()['Model'].value_counts()"
   ]
  },
  {
   "cell_type": "code",
   "execution_count": 369,
   "id": "cf6efd5b",
   "metadata": {},
   "outputs": [
    {
     "data": {
      "text/plain": [
       "array(['AERO COMMANDER', 'CESSNA', 'NORTH AMERICAN', 'HUGHES',\n",
       "       'MCDONNELL DOUGLAS', 'EMBRAER', 'ROCKWELL'], dtype=object)"
      ]
     },
     "execution_count": 369,
     "metadata": {},
     "output_type": "execute_result"
    }
   ],
   "source": [
    "# Review a couple of the repeated makes to confirm these aren't missed duplicate makers\n",
    "accident_df_filter_model[accident_df_filter_model['Model'] == '500']['Make'].unique()"
   ]
  },
  {
   "cell_type": "code",
   "execution_count": 370,
   "id": "a289001d",
   "metadata": {},
   "outputs": [
    {
     "data": {
      "text/plain": [
       "array(['SCHWEIZER', 'GRUMMAN', 'GRUMMAN-SCHWEIZER', 'AIR TRACTOR'],\n",
       "      dtype=object)"
      ]
     },
     "execution_count": 370,
     "metadata": {},
     "output_type": "execute_result"
    }
   ],
   "source": [
    "accident_df_filter_model[accident_df_filter_model['Model'] == 'G-164A']['Make'].unique()"
   ]
  },
  {
   "cell_type": "code",
   "execution_count": 371,
   "id": "9fdfb188",
   "metadata": {},
   "outputs": [],
   "source": [
    "accident_df_filter_model['Make_Model_ID'] = accident_df_filter_model['Make'] + ' -- ' + accident_df_filter_model['Model']"
   ]
  },
  {
   "cell_type": "markdown",
   "id": "9a173ebd",
   "metadata": {},
   "source": [
    "### Cleaning other columns\n",
    "- there are other columns containing data that might be related to the outcome of an accident. We list a few here:\n",
    "- Engine.Type\n",
    "- Weather.Condition\n",
    "- Number.of.Engines\n",
    "- Purpose.of.flight\n",
    "- Broad.phase.of.flight\n",
    "\n",
    "Inspect and identify potential cleaning tasks in each of the above columns. Execute those cleaning tasks. \n",
    "\n",
    "**Note**: You do not necessarily need to impute or drop NaNs here."
   ]
  },
  {
   "cell_type": "code",
   "execution_count": 372,
   "id": "46426426",
   "metadata": {},
   "outputs": [],
   "source": [
    "accident_df_filter_other = accident_df_filter_model.copy()"
   ]
  },
  {
   "cell_type": "code",
   "execution_count": 373,
   "id": "01df492e",
   "metadata": {},
   "outputs": [
    {
     "data": {
      "text/plain": [
       "array(['Reciprocating', 'Turbo Fan', 'Turbo Shaft', 'Turbo Prop',\n",
       "       'Unknown', 'Turbo Jet', nan, 'Geared Turbofan', 'LR', 'UNK',\n",
       "       'NONE'], dtype=object)"
      ]
     },
     "execution_count": 373,
     "metadata": {},
     "output_type": "execute_result"
    }
   ],
   "source": [
    "# accident_df_filter_model[['Engine.Type', 'Weather.Condition', 'Number.of.Engines', 'Purpose.of.flight', 'Broad.phase.of.flight']].head(15)\n",
    "accident_df_filter_other['Engine.Type'].unique()"
   ]
  },
  {
   "cell_type": "code",
   "execution_count": 374,
   "id": "843afa30",
   "metadata": {},
   "outputs": [
    {
     "data": {
      "text/plain": [
       "array(['Reciprocating', 'Turbo Fan', 'Turbo Shaft', 'Turbo Prop',\n",
       "       'Unknown', 'Turbo Jet', 'Geared Turbofan', 'LR'], dtype=object)"
      ]
     },
     "execution_count": 374,
     "metadata": {},
     "output_type": "execute_result"
    }
   ],
   "source": [
    "# Several variations of unknown and none\n",
    "accident_df_filter_other.loc[accident_df_filter_other['Engine.Type'].isin(['UNK', 'NONE']), 'Engine.Type'] = 'Unknown'\n",
    "accident_df_filter_other = accident_df_filter_other.fillna({'Engine.Type': 'Unknown'})\n",
    "\n",
    "accident_df_filter_other['Engine.Type'].unique()"
   ]
  },
  {
   "cell_type": "code",
   "execution_count": 375,
   "id": "3144f962",
   "metadata": {},
   "outputs": [
    {
     "data": {
      "text/plain": [
       "array(['IMC', 'UNK', 'VMC', nan, 'Unk'], dtype=object)"
      ]
     },
     "execution_count": 375,
     "metadata": {},
     "output_type": "execute_result"
    }
   ],
   "source": [
    "accident_df_filter_other['Weather.Condition'].unique()"
   ]
  },
  {
   "cell_type": "code",
   "execution_count": 376,
   "id": "b7748563",
   "metadata": {},
   "outputs": [
    {
     "data": {
      "text/plain": [
       "array(['IMC', 'UNK', 'VMC'], dtype=object)"
      ]
     },
     "execution_count": 376,
     "metadata": {},
     "output_type": "execute_result"
    }
   ],
   "source": [
    "# Several variations of unknown\n",
    "accident_df_filter_other.loc[accident_df_filter_other['Weather.Condition'] == 'Unk', 'Weather.Condition']  = 'UNK'\n",
    "accident_df_filter_other = accident_df_filter_other.fillna({'Weather.Condition': 'UNK'})\n",
    "\n",
    "accident_df_filter_other['Weather.Condition'].unique()"
   ]
  },
  {
   "cell_type": "code",
   "execution_count": 377,
   "id": "30491592",
   "metadata": {},
   "outputs": [
    {
     "data": {
      "text/plain": [
       "array([ 2.,  3.,  1., nan,  4.,  0.,  8.])"
      ]
     },
     "execution_count": 377,
     "metadata": {},
     "output_type": "execute_result"
    }
   ],
   "source": [
    "# No cleaning needed\n",
    "accident_df_filter_other['Number.of.Engines'].unique()"
   ]
  },
  {
   "cell_type": "code",
   "execution_count": 378,
   "id": "36415f49",
   "metadata": {},
   "outputs": [
    {
     "data": {
      "text/plain": [
       "array(['Personal', 'Unknown', 'Business', 'Ferry', 'Instructional',\n",
       "       'Positioning', 'Aerial Application', 'Other Work Use',\n",
       "       'Aerial Observation', 'Executive/corporate', nan,\n",
       "       'Public Aircraft', 'Skydiving', 'Flight Test', 'Air Race/show',\n",
       "       'Air Drop', 'Public Aircraft - Federal', 'Glider Tow',\n",
       "       'Public Aircraft - Local', 'External Load',\n",
       "       'Public Aircraft - State', 'Banner Tow', 'Firefighting',\n",
       "       'Air Race show', 'PUBS', 'ASHO', 'PUBL'], dtype=object)"
      ]
     },
     "execution_count": 378,
     "metadata": {},
     "output_type": "execute_result"
    }
   ],
   "source": [
    "accident_df_filter_other['Purpose.of.flight'].unique()"
   ]
  },
  {
   "cell_type": "code",
   "execution_count": 379,
   "id": "b8c14d76",
   "metadata": {},
   "outputs": [],
   "source": [
    "accident_df_filter_other = accident_df_filter_other.fillna({'Purpose.of.flight': 'Unknown'})"
   ]
  },
  {
   "cell_type": "code",
   "execution_count": 380,
   "id": "47f81959",
   "metadata": {},
   "outputs": [
    {
     "data": {
      "text/plain": [
       "array(['Approach', 'Cruise', nan, 'Maneuvering', 'Landing', 'Climb',\n",
       "       'Standing', 'Takeoff', 'Taxi', 'Descent', 'Go-around', 'Unknown',\n",
       "       'Other'], dtype=object)"
      ]
     },
     "execution_count": 380,
     "metadata": {},
     "output_type": "execute_result"
    }
   ],
   "source": [
    "accident_df_filter_other['Broad.phase.of.flight'].unique()"
   ]
  },
  {
   "cell_type": "code",
   "execution_count": 381,
   "id": "1ff0e5d1",
   "metadata": {},
   "outputs": [],
   "source": [
    "accident_df_filter_other = accident_df_filter_other.fillna({'Broad.phase.of.flight': 'Unknown'})"
   ]
  },
  {
   "cell_type": "markdown",
   "id": "12ad63d9",
   "metadata": {},
   "source": [
    "### Column Removal\n",
    "- inspect the dataframe and drop any columns that have too many NaNs"
   ]
  },
  {
   "cell_type": "code",
   "execution_count": 382,
   "id": "f661bb21",
   "metadata": {},
   "outputs": [
    {
     "data": {
      "text/plain": [
       "['Event.Date',\n",
       " 'Latitude',\n",
       " 'Longitude',\n",
       " 'Aircraft.Category',\n",
       " 'FAR.Description',\n",
       " 'Schedule',\n",
       " 'Air.carrier']"
      ]
     },
     "execution_count": 382,
     "metadata": {},
     "output_type": "execute_result"
    }
   ],
   "source": [
    "columns = list(accident_df_filter_other.columns)\n",
    "row_count = len(accident_df_filter_other)\n",
    "columns_to_drop = ['Event.Date'] # Included because we have already made Event_date with a datetime object\n",
    "\n",
    "# Find columns with greater than 50% null rate\n",
    "for column in columns:\n",
    "    if (accident_df_filter_other[column].isna().sum())/row_count > .5:\n",
    "        columns_to_drop.append(column)\n",
    "\n",
    "columns_to_drop"
   ]
  },
  {
   "cell_type": "code",
   "execution_count": 383,
   "id": "ff1d94ff",
   "metadata": {},
   "outputs": [],
   "source": [
    "accident_df_filtered = accident_df_filter_other.drop(columns_to_drop, axis=1)"
   ]
  },
  {
   "cell_type": "code",
   "execution_count": 384,
   "id": "252ac1b6",
   "metadata": {},
   "outputs": [
    {
     "data": {
      "text/html": [
       "<div>\n",
       "<style scoped>\n",
       "    .dataframe tbody tr th:only-of-type {\n",
       "        vertical-align: middle;\n",
       "    }\n",
       "\n",
       "    .dataframe tbody tr th {\n",
       "        vertical-align: top;\n",
       "    }\n",
       "\n",
       "    .dataframe thead th {\n",
       "        text-align: right;\n",
       "    }\n",
       "</style>\n",
       "<table border=\"1\" class=\"dataframe\">\n",
       "  <thead>\n",
       "    <tr style=\"text-align: right;\">\n",
       "      <th></th>\n",
       "      <th>Event.Id</th>\n",
       "      <th>Investigation.Type</th>\n",
       "      <th>Accident.Number</th>\n",
       "      <th>Location</th>\n",
       "      <th>Country</th>\n",
       "      <th>Airport.Code</th>\n",
       "      <th>Airport.Name</th>\n",
       "      <th>Injury.Severity</th>\n",
       "      <th>Aircraft.damage</th>\n",
       "      <th>Registration.Number</th>\n",
       "      <th>...</th>\n",
       "      <th>Total.Minor.Injuries</th>\n",
       "      <th>Total.Uninjured</th>\n",
       "      <th>Weather.Condition</th>\n",
       "      <th>Broad.phase.of.flight</th>\n",
       "      <th>Report.Status</th>\n",
       "      <th>Publication.Date</th>\n",
       "      <th>Event_Date</th>\n",
       "      <th>Total_Passengers</th>\n",
       "      <th>Severe_Injury_Rate</th>\n",
       "      <th>Make_Model_ID</th>\n",
       "    </tr>\n",
       "  </thead>\n",
       "  <tbody>\n",
       "    <tr>\n",
       "      <th>10613</th>\n",
       "      <td>20001214X35598</td>\n",
       "      <td>Accident</td>\n",
       "      <td>NYC85FNC02</td>\n",
       "      <td>HOPKINTON, NH</td>\n",
       "      <td>United States</td>\n",
       "      <td>LEB</td>\n",
       "      <td>LEBANON, NH</td>\n",
       "      <td>Non-Fatal</td>\n",
       "      <td>Destroyed</td>\n",
       "      <td>N47364</td>\n",
       "      <td>...</td>\n",
       "      <td>0.0</td>\n",
       "      <td>0.0</td>\n",
       "      <td>IMC</td>\n",
       "      <td>Approach</td>\n",
       "      <td>Probable Cause</td>\n",
       "      <td>NaN</td>\n",
       "      <td>1985-01-01</td>\n",
       "      <td>2.0</td>\n",
       "      <td>1.0</td>\n",
       "      <td>PIPER -- PA-34-200T</td>\n",
       "    </tr>\n",
       "    <tr>\n",
       "      <th>10614</th>\n",
       "      <td>20001214X35495</td>\n",
       "      <td>Accident</td>\n",
       "      <td>DEN85FA055</td>\n",
       "      <td>EDGEWOOD, NM</td>\n",
       "      <td>United States</td>\n",
       "      <td>NaN</td>\n",
       "      <td>NaN</td>\n",
       "      <td>Fatal(2)</td>\n",
       "      <td>Destroyed</td>\n",
       "      <td>N5069Q</td>\n",
       "      <td>...</td>\n",
       "      <td>0.0</td>\n",
       "      <td>0.0</td>\n",
       "      <td>IMC</td>\n",
       "      <td>Cruise</td>\n",
       "      <td>Probable Cause</td>\n",
       "      <td>NaN</td>\n",
       "      <td>1985-01-01</td>\n",
       "      <td>2.0</td>\n",
       "      <td>1.0</td>\n",
       "      <td>CESSNA -- 310N</td>\n",
       "    </tr>\n",
       "    <tr>\n",
       "      <th>10615</th>\n",
       "      <td>20001214X35494</td>\n",
       "      <td>Accident</td>\n",
       "      <td>DCA85RA007</td>\n",
       "      <td>LA PAZ, Bolivia</td>\n",
       "      <td>Bolivia</td>\n",
       "      <td>LPB</td>\n",
       "      <td>LA PAZ INTERNATIONAL</td>\n",
       "      <td>Fatal(29)</td>\n",
       "      <td>Destroyed</td>\n",
       "      <td>N819EA</td>\n",
       "      <td>...</td>\n",
       "      <td>0.0</td>\n",
       "      <td>0.0</td>\n",
       "      <td>UNK</td>\n",
       "      <td>Unknown</td>\n",
       "      <td>Foreign</td>\n",
       "      <td>06-02-1995</td>\n",
       "      <td>1985-01-01</td>\n",
       "      <td>29.0</td>\n",
       "      <td>1.0</td>\n",
       "      <td>BOEING -- 727-225</td>\n",
       "    </tr>\n",
       "    <tr>\n",
       "      <th>10617</th>\n",
       "      <td>20001214X35463</td>\n",
       "      <td>Accident</td>\n",
       "      <td>ATL85LA075</td>\n",
       "      <td>DUBLIN, NC</td>\n",
       "      <td>United States</td>\n",
       "      <td>NaN</td>\n",
       "      <td>NaN</td>\n",
       "      <td>Non-Fatal</td>\n",
       "      <td>Substantial</td>\n",
       "      <td>N50913</td>\n",
       "      <td>...</td>\n",
       "      <td>0.0</td>\n",
       "      <td>1.0</td>\n",
       "      <td>VMC</td>\n",
       "      <td>Cruise</td>\n",
       "      <td>Probable Cause</td>\n",
       "      <td>NaN</td>\n",
       "      <td>1985-01-01</td>\n",
       "      <td>1.0</td>\n",
       "      <td>0.0</td>\n",
       "      <td>CESSNA -- 150J</td>\n",
       "    </tr>\n",
       "    <tr>\n",
       "      <th>10618</th>\n",
       "      <td>20001214X35584</td>\n",
       "      <td>Accident</td>\n",
       "      <td>MKC85FA042</td>\n",
       "      <td>PAWNEE CITY, NE</td>\n",
       "      <td>United States</td>\n",
       "      <td>NaN</td>\n",
       "      <td>NaN</td>\n",
       "      <td>Fatal(1)</td>\n",
       "      <td>Substantial</td>\n",
       "      <td>N7138F</td>\n",
       "      <td>...</td>\n",
       "      <td>0.0</td>\n",
       "      <td>0.0</td>\n",
       "      <td>VMC</td>\n",
       "      <td>Maneuvering</td>\n",
       "      <td>Probable Cause</td>\n",
       "      <td>NaN</td>\n",
       "      <td>1985-01-02</td>\n",
       "      <td>2.0</td>\n",
       "      <td>1.0</td>\n",
       "      <td>CESSNA -- 150F</td>\n",
       "    </tr>\n",
       "  </tbody>\n",
       "</table>\n",
       "<p>5 rows × 28 columns</p>\n",
       "</div>"
      ],
      "text/plain": [
       "             Event.Id Investigation.Type Accident.Number         Location  \\\n",
       "10613  20001214X35598           Accident      NYC85FNC02    HOPKINTON, NH   \n",
       "10614  20001214X35495           Accident      DEN85FA055     EDGEWOOD, NM   \n",
       "10615  20001214X35494           Accident      DCA85RA007  LA PAZ, Bolivia   \n",
       "10617  20001214X35463           Accident      ATL85LA075       DUBLIN, NC   \n",
       "10618  20001214X35584           Accident      MKC85FA042  PAWNEE CITY, NE   \n",
       "\n",
       "             Country Airport.Code          Airport.Name Injury.Severity  \\\n",
       "10613  United States          LEB           LEBANON, NH       Non-Fatal   \n",
       "10614  United States          NaN                   NaN        Fatal(2)   \n",
       "10615        Bolivia          LPB  LA PAZ INTERNATIONAL       Fatal(29)   \n",
       "10617  United States          NaN                   NaN       Non-Fatal   \n",
       "10618  United States          NaN                   NaN        Fatal(1)   \n",
       "\n",
       "      Aircraft.damage Registration.Number  ... Total.Minor.Injuries  \\\n",
       "10613       Destroyed              N47364  ...                  0.0   \n",
       "10614       Destroyed              N5069Q  ...                  0.0   \n",
       "10615       Destroyed              N819EA  ...                  0.0   \n",
       "10617     Substantial              N50913  ...                  0.0   \n",
       "10618     Substantial              N7138F  ...                  0.0   \n",
       "\n",
       "      Total.Uninjured Weather.Condition  Broad.phase.of.flight  \\\n",
       "10613             0.0               IMC               Approach   \n",
       "10614             0.0               IMC                 Cruise   \n",
       "10615             0.0               UNK                Unknown   \n",
       "10617             1.0               VMC                 Cruise   \n",
       "10618             0.0               VMC            Maneuvering   \n",
       "\n",
       "        Report.Status Publication.Date  Event_Date  Total_Passengers  \\\n",
       "10613  Probable Cause              NaN  1985-01-01               2.0   \n",
       "10614  Probable Cause              NaN  1985-01-01               2.0   \n",
       "10615         Foreign       06-02-1995  1985-01-01              29.0   \n",
       "10617  Probable Cause              NaN  1985-01-01               1.0   \n",
       "10618  Probable Cause              NaN  1985-01-02               2.0   \n",
       "\n",
       "       Severe_Injury_Rate        Make_Model_ID  \n",
       "10613                 1.0  PIPER -- PA-34-200T  \n",
       "10614                 1.0       CESSNA -- 310N  \n",
       "10615                 1.0    BOEING -- 727-225  \n",
       "10617                 0.0       CESSNA -- 150J  \n",
       "10618                 1.0       CESSNA -- 150F  \n",
       "\n",
       "[5 rows x 28 columns]"
      ]
     },
     "execution_count": 384,
     "metadata": {},
     "output_type": "execute_result"
    }
   ],
   "source": [
    "accident_df_filtered.head()"
   ]
  },
  {
   "cell_type": "markdown",
   "id": "750d48f1",
   "metadata": {},
   "source": [
    "### Save DataFrame to csv\n",
    "- its generally useful to save data to file/server after its in a sufficiently cleaned or intermediate state\n",
    "- the data can then be loaded directly in another notebook for further analysis\n",
    "- this helps keep your notebooks and workflow readable, clean and modularized"
   ]
  },
  {
   "cell_type": "code",
   "execution_count": 385,
   "id": "b425a512",
   "metadata": {},
   "outputs": [],
   "source": [
    "accident_df_filtered.to_csv('data/AviationData_cleaned.csv')"
   ]
  }
 ],
 "metadata": {
  "kernelspec": {
   "display_name": "venv",
   "language": "python",
   "name": "python3"
  },
  "language_info": {
   "codemirror_mode": {
    "name": "ipython",
    "version": 3
   },
   "file_extension": ".py",
   "mimetype": "text/x-python",
   "name": "python",
   "nbconvert_exporter": "python",
   "pygments_lexer": "ipython3",
   "version": "3.10.12"
  }
 },
 "nbformat": 4,
 "nbformat_minor": 5
}
